{
 "cells": [
  {
   "cell_type": "markdown",
   "id": "14df1f64-a598-4939-8f1f-f8275f638f78",
   "metadata": {},
   "source": [
    "TOPIC: Python Basics Variable"
   ]
  },
  {
   "cell_type": "markdown",
   "id": "5c95c0e9-7a4c-44e1-84a2-1bfa3d9baa94",
   "metadata": {},
   "source": [
    "1. Declare two variables, `x` and `y`, and assign them integer values. Swap the\n",
    "values of these variables without using any temporary variable."
   ]
  },
  {
   "cell_type": "code",
   "execution_count": 13,
   "id": "73729b60-2235-4e29-8114-36c1621efac2",
   "metadata": {},
   "outputs": [
    {
     "name": "stdout",
     "output_type": "stream",
     "text": [
      "x =  5.0\n",
      "y =  3.0\n"
     ]
    }
   ],
   "source": [
    "x = 3\n",
    "y = 5\n",
    "x = x * y\n",
    "y = x / y\n",
    "x = x / y\n",
    "print('x = ',x)\n",
    "print('y = ',y)"
   ]
  },
  {
   "cell_type": "markdown",
   "id": "62a2efc1-1f1a-413b-8819-42288b35f92e",
   "metadata": {},
   "source": [
    "2. Create a program that calculates the area of a rectangle. Take the length and\n",
    "width as inputs from the user and store them in variables. Calculate and\n",
    "display the area."
   ]
  },
  {
   "cell_type": "code",
   "execution_count": 14,
   "id": "0164f0a2-8447-4e20-be77-39316c4ef745",
   "metadata": {},
   "outputs": [
    {
     "name": "stdin",
     "output_type": "stream",
     "text": [
      "Enter the length:  10\n",
      "Enter the width:  20\n"
     ]
    },
    {
     "name": "stdout",
     "output_type": "stream",
     "text": [
      "The area of the rectangle is:  200\n"
     ]
    }
   ],
   "source": [
    "length = int(input('Enter the length: '))\n",
    "width = int(input('Enter the width: '))\n",
    "area = length * width\n",
    "print('The area of the rectangle is: ',area)"
   ]
  },
  {
   "cell_type": "markdown",
   "id": "de36a4ba-ae6e-4eef-ac88-2e79daffbfb5",
   "metadata": {},
   "source": [
    "3. Write a Python program that converts temperatures from Celsius to\n",
    "Fahrenheit. Take the temperature in Celsius as input, store it in a variable,\n",
    "convert it to Fahrenheit, and display the result."
   ]
  },
  {
   "cell_type": "code",
   "execution_count": 15,
   "id": "d7296921-244d-494f-8909-f808e333409c",
   "metadata": {},
   "outputs": [
    {
     "name": "stdin",
     "output_type": "stream",
     "text": [
      "Enter the temperature in Celsius:  20\n"
     ]
    },
    {
     "name": "stdout",
     "output_type": "stream",
     "text": [
      "The temperature in Fahrenheit is:  68.0\n"
     ]
    }
   ],
   "source": [
    "celsius = int(input('Enter the temperature in Celsius: '))\n",
    "fahrenheit = celsius * 9/5 + 32\n",
    "print('The temperature in Fahrenheit is: ', fahrenheit)"
   ]
  },
  {
   "cell_type": "markdown",
   "id": "f501b01c-5074-44e9-b496-1a39e0562c99",
   "metadata": {},
   "source": [
    "TOPIC: String Based Questions"
   ]
  },
  {
   "cell_type": "markdown",
   "id": "37c8242b-0802-41f1-8dd9-bb13b1235e7d",
   "metadata": {},
   "source": [
    "1. Write a Python program that takes a string as input and prints the length of\n",
    "the string."
   ]
  },
  {
   "cell_type": "code",
   "execution_count": 20,
   "id": "a0ffb64a-b3fe-4018-84f1-8c1aa49e885f",
   "metadata": {},
   "outputs": [
    {
     "name": "stdin",
     "output_type": "stream",
     "text": [
      " karan\n"
     ]
    },
    {
     "name": "stdout",
     "output_type": "stream",
     "text": [
      "The length of th string is:  5\n"
     ]
    }
   ],
   "source": [
    "s = str(input())\n",
    "l = 0 ##variable used to store length\n",
    "for i in s: ##for loop is used to iterate in the string\n",
    "    l+=1\n",
    "print('The length of th string is: ',l)"
   ]
  },
  {
   "cell_type": "markdown",
   "id": "f2a1642f-ebb0-4edc-aec8-e90e5ac3f3be",
   "metadata": {},
   "source": [
    "2. Create a program that takes a sentence from the user and counts the number\n",
    "of vowels (a, e, i, o, u) in the string."
   ]
  },
  {
   "cell_type": "code",
   "execution_count": 31,
   "id": "0dcb16e6-787d-4955-8b07-e06687dfef7f",
   "metadata": {},
   "outputs": [
    {
     "name": "stdin",
     "output_type": "stream",
     "text": [
      " anubhav\n"
     ]
    },
    {
     "name": "stdout",
     "output_type": "stream",
     "text": [
      "The total number of vowels in the string is:  3\n"
     ]
    }
   ],
   "source": [
    "s1 = str(input())\n",
    "l1 = 0\n",
    "for i in s1:\n",
    "    if i == 'a' or i == 'e' or i == 'i' or i == 'o' or i == 'u':\n",
    "        l1 = l1+1\n",
    "print('The total number of vowels in the string is: ',l1)"
   ]
  },
  {
   "cell_type": "markdown",
   "id": "589b04e2-7505-4c6a-9f33-27319eaff1b3",
   "metadata": {},
   "source": [
    "3. Given a string, reverse the order of characters using string slicing and print\n",
    "the reversed string."
   ]
  },
  {
   "cell_type": "code",
   "execution_count": 33,
   "id": "454f2f4c-9b4b-4879-a8e0-c09c51dfd18a",
   "metadata": {},
   "outputs": [
    {
     "name": "stdin",
     "output_type": "stream",
     "text": [
      " karan\n"
     ]
    },
    {
     "name": "stdout",
     "output_type": "stream",
     "text": [
      "The reversed string is:  narak\n"
     ]
    }
   ],
   "source": [
    "s2 = str(input())\n",
    "s3 = s2[::-1]\n",
    "print('The reversed string is: ',s3)"
   ]
  },
  {
   "cell_type": "markdown",
   "id": "3a702e54-95c2-475b-9c25-446c989c667d",
   "metadata": {},
   "source": [
    "4. Write a program that takes a string as input and checks if it is a palindrome\n",
    "(reads the same forwards and backwards)."
   ]
  },
  {
   "cell_type": "code",
   "execution_count": 38,
   "id": "b6a53092-633b-440a-9c82-33aa87f3fdce",
   "metadata": {},
   "outputs": [
    {
     "name": "stdin",
     "output_type": "stream",
     "text": [
      " civic\n"
     ]
    },
    {
     "name": "stdout",
     "output_type": "stream",
     "text": [
      "It is palindrome\n"
     ]
    }
   ],
   "source": [
    "s4 = str(input())\n",
    "s5 = s4[::-1]\n",
    "if s5 == s4:\n",
    "    print('It is palindrome')\n",
    "else:\n",
    "    print('It is not a palindrome')"
   ]
  },
  {
   "cell_type": "markdown",
   "id": "9661aa0a-15d3-44a1-b253-10147303f0e5",
   "metadata": {},
   "source": [
    "5. Create a program that takes a string as input and removes all the spaces from\n",
    "it. Print the modified string without spaces."
   ]
  },
  {
   "cell_type": "code",
   "execution_count": 39,
   "id": "c7982133-4217-48bb-8ccf-14f0fd04ff5f",
   "metadata": {},
   "outputs": [
    {
     "name": "stdin",
     "output_type": "stream",
     "text": [
      " my name is anubhav\n"
     ]
    },
    {
     "name": "stdout",
     "output_type": "stream",
     "text": [
      "mynameisanubhav\n"
     ]
    }
   ],
   "source": [
    "s6 = str(input())\n",
    "s7 = s6.replace(' ','')\n",
    "print(s7)"
   ]
  },
  {
   "cell_type": "code",
   "execution_count": null,
   "id": "5e913510-322d-4994-87a3-5b743632ca72",
   "metadata": {},
   "outputs": [],
   "source": []
  }
 ],
 "metadata": {
  "kernelspec": {
   "display_name": "Python 3 (ipykernel)",
   "language": "python",
   "name": "python3"
  },
  "language_info": {
   "codemirror_mode": {
    "name": "ipython",
    "version": 3
   },
   "file_extension": ".py",
   "mimetype": "text/x-python",
   "name": "python",
   "nbconvert_exporter": "python",
   "pygments_lexer": "ipython3",
   "version": "3.10.8"
  }
 },
 "nbformat": 4,
 "nbformat_minor": 5
}
